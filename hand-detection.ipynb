{
 "cells": [
  {
   "cell_type": "code",
   "execution_count": 6,
   "metadata": {},
   "outputs": [],
   "source": [
    "# hsv = cv2.cvtColor(img, cv2.COLOR_BGR2HSV)\n",
    "# dst = cv2.calcBackProject([hsv], [0,1], hist, [0,180,0,256], 1)\n",
    "\n",
    "# disc = cv2.getStructuringElement(cv2.MORPH_ELLIPSE, (11,11))\n",
    "# cv2.filter2D(dst, -1, disc, dst)\n",
    "\n",
    "# ret, thresh = cv2.threshold(dst, 100, 255, 0)\n",
    "# thresh = cv2.merge((thresh,thresh, thresh))\n",
    "\n",
    "# cv2.GaussianBlur(dst, (3,3), 0, dst)\n",
    "\n",
    "# res = cv2.bitwise_and(img, thresh)"
   ]
  },
  {
   "cell_type": "code",
   "execution_count": 1,
   "metadata": {
    "collapsed": true
   },
   "outputs": [],
   "source": [
    "import cv2\n",
    "import numpy as np"
   ]
  },
  {
   "cell_type": "code",
   "execution_count": 5,
   "metadata": {},
   "outputs": [],
   "source": [
    "cap = cv2.VideoCapture(0)\n",
    "# cap.set(3, 64)\n",
    "# cap.set(4, 64)\n",
    "\n",
    "while True:\n",
    "    _, frame = cap.read()\n",
    "    \n",
    "    gray = cv2.cvtColor(frame, cv2.COLOR_BGR2GRAY)\n",
    "    blur = cv2.GaussianBlur(gray,(5,5),0)\n",
    " \n",
    "    \n",
    "    hsv = cv2.cvtColor(frame, cv2.COLOR_BGR2HSV)\n",
    "    lower_color = np.array([3, 50, 50])\n",
    "    upper_color = np.array([33,255,255])\n",
    "\n",
    "    # frame = imutils.resize(frame, width = 400)\n",
    "    # converted = cv2.cvtColor(frame, cv2.COLOR_BGR2HSV)\n",
    "    # skinMask = cv2.inRange(converted, lower, upper)\n",
    "\n",
    "    mask = cv2.inRange(hsv, lower_color, upper_color)\n",
    "\n",
    "    kernel = cv2.getStructuringElement(cv2.MORPH_ELLIPSE, (11, 11))\n",
    "    skinMask = cv2.erode(mask, kernel, iterations = 2)\n",
    "    skinMask = cv2.dilate(mask, kernel, iterations = 2)\n",
    "    skinMask = cv2.GaussianBlur(mask, (3, 3), 0)\n",
    "    # skin = cv2.bitwise_and(frame, frame, mask = skinMask)\n",
    "        # mask will be everything in range\n",
    "\n",
    "    result = cv2.bitwise_and(frame, frame, mask = skinMask) \n",
    "    \n",
    "    result = cv2.cvtColor(result, cv2.COLOR_HSV2BGR)\n",
    "\n",
    "    \n",
    "    ret, thresh = cv2.threshold(result, 75,255,cv2.THRESH_BINARY_INV)\n",
    "#     _, thresh1 = cv2.threshold(blur, 240,255,cv2.THRESH_BINARY_INV+cv2.THRESH_OTSU)\n",
    "#     ret,thresh = cv2.threshold(img,127,255,0)\n",
    "    \n",
    "    kernel = np.ones((1, 1), np.uint8)\n",
    "    opening = cv2.morphologyEx(thresh, cv2.MORPH_OPEN, kernel)\n",
    "    closing = cv2.morphologyEx(opening, cv2.MORPH_CLOSE, kernel)\n",
    "    \n",
    "#     thresh1 = cv2.erode(closing,None,iterations = 2)\n",
    "    cv2.convertScaleAbs(closing, closing)\n",
    "#     print(closing.shape)\n",
    "    \n",
    "    gray1 = cv2.cvtColor(closing, cv2.COLOR_BGR2GRAY)\n",
    "\n",
    "    _,contours, hierarchy = cv2.findContours(gray1,cv2.RETR_TREE,cv2.CHAIN_APPROX_SIMPLE)\n",
    "    cv2.drawContours(frame, contours, -1, (0,255,0), 3)\n",
    "    \n",
    "    max_area = -11111\n",
    "    for i in range(len(contours)):\n",
    "        cnt=contours[i]\n",
    "        area = cv2.contourArea(cnt)\n",
    "        if(area>max_area):\n",
    "            max_area=area\n",
    "            ci=i\n",
    "    cnt=contours[ci]\n",
    "    \n",
    "    \n",
    "    hull = cv2.convexHull(cnt)\n",
    "    \n",
    "    drawing = np.zeros(frame.shape,np.uint8)\n",
    "    cv2.drawContours(drawing,[cnt],0,(0,255,0),2)\n",
    "    cv2.drawContours(drawing,[hull],0,(0,0,255),2)\n",
    "    \n",
    "    \n",
    "    cv2.imshow('frame', frame)\n",
    "    cv2.imshow('drawing', drawing)\n",
    "#     cv2.imshow('gray', gray)q\n",
    "#     cv2.imshow('blur', blur)\n",
    "#     cv2.imshow('closing', closing)\n",
    "#     cv2.imshow('result', result)\n",
    "\n",
    "    \n",
    "    \n",
    "    if cv2.waitKey(1) & 0xFF == ord('q'):\n",
    "        break\n",
    "cap.release()\n",
    "cv2.destroyAllWindows()"
   ]
  },
  {
   "cell_type": "code",
   "execution_count": null,
   "metadata": {
    "collapsed": true
   },
   "outputs": [],
   "source": []
  }
 ],
 "metadata": {
  "kernelspec": {
   "display_name": "Python 3",
   "language": "python",
   "name": "python3"
  },
  "language_info": {
   "codemirror_mode": {
    "name": "ipython",
    "version": 3
   },
   "file_extension": ".py",
   "mimetype": "text/x-python",
   "name": "python",
   "nbconvert_exporter": "python",
   "pygments_lexer": "ipython3",
   "version": "3.6.3"
  }
 },
 "nbformat": 4,
 "nbformat_minor": 2
}
