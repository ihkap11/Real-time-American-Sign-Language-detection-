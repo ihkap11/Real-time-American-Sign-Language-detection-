{
 "cells": [
  {
   "cell_type": "code",
   "execution_count": 1,
   "metadata": {},
   "outputs": [
    {
     "name": "stderr",
     "output_type": "stream",
     "text": [
      "Using TensorFlow backend.\n"
     ]
    }
   ],
   "source": [
    "from cnn_model import create_model, train_model, get_score\n",
    "from generate_dataset import  shuffle, reshape_train_test, testtrain_split\n",
    "from save_model import save_model, load_model, score_adam_optimizer,score_rmsprop_optimizer \n",
    "\n",
    "import pickle as pk"
   ]
  },
  {
   "cell_type": "code",
   "execution_count": null,
   "metadata": {
    "collapsed": true
   },
   "outputs": [],
   "source": []
  },
  {
   "cell_type": "code",
   "execution_count": 2,
   "metadata": {
    "collapsed": true
   },
   "outputs": [],
   "source": [
    "[x,y]=pk.load(open(\"dataset.pickle\",\"rb\"))\n",
    "# len(x)"
   ]
  },
  {
   "cell_type": "code",
   "execution_count": 3,
   "metadata": {
    "collapsed": true
   },
   "outputs": [],
   "source": [
    "dataset_size=len(x)\n",
    "test_size=0.2"
   ]
  },
  {
   "cell_type": "code",
   "execution_count": null,
   "metadata": {
    "collapsed": true
   },
   "outputs": [],
   "source": []
  },
  {
   "cell_type": "code",
   "execution_count": 4,
   "metadata": {
    "collapsed": true
   },
   "outputs": [],
   "source": [
    "def split_preprocess(score = False):\n",
    "    X_train, X_test, y_in, y_out = reshape_train_test(x,y)\n",
    "    model = train_model(X_train, X_test, y_in, y_out)\n",
    "    \n",
    "    if(score == True):\n",
    "        get_score(X_test, y_out, model)  \n",
    "        \n",
    "    return X_test, y_out, model\n",
    "    \n"
   ]
  },
  {
   "cell_type": "code",
   "execution_count": null,
   "metadata": {
    "collapsed": true
   },
   "outputs": [],
   "source": []
  },
  {
   "cell_type": "code",
   "execution_count": 5,
   "metadata": {
    "collapsed": true
   },
   "outputs": [],
   "source": [
    "def get_scores(loaded_model,X_test, y_out, rmsprop = False, adam = False, both = True):\n",
    "    \n",
    "    if(both == True):\n",
    "        adam = True\n",
    "        rmsprop = True\n",
    "        \n",
    "    if(adam == True):\n",
    "        score_adam_optimizer(X_test, y_out, loaded_model)\n",
    "        \n",
    "    if(rmsprop == True):\n",
    "        score_rmsprop_optimizer(X_test, y_out, loaded_model)\n",
    "        \n",
    "        \n",
    "    "
   ]
  },
  {
   "cell_type": "code",
   "execution_count": null,
   "metadata": {
    "collapsed": true
   },
   "outputs": [],
   "source": []
  },
  {
   "cell_type": "code",
   "execution_count": 6,
   "metadata": {
    "collapsed": true
   },
   "outputs": [],
   "source": [
    "def __main__():\n",
    "    X_test, y_out, model = split_preprocess()\n",
    "    \n",
    "    save_model(model)\n",
    "    \n",
    "    loaded_model = load_model()\n",
    "    \n",
    "\n",
    "    get_scores(loaded_model,X_test, y_out)\n",
    "    \n",
    "    "
   ]
  },
  {
   "cell_type": "code",
   "execution_count": null,
   "metadata": {
    "collapsed": true
   },
   "outputs": [],
   "source": []
  },
  {
   "cell_type": "code",
   "execution_count": null,
   "metadata": {
    "collapsed": true
   },
   "outputs": [],
   "source": []
  },
  {
   "cell_type": "code",
   "execution_count": 7,
   "metadata": {},
   "outputs": [
    {
     "name": "stdout",
     "output_type": "stream",
     "text": [
      "Train on 1685 samples, validate on 800 samples\n",
      "Epoch 1/20\n",
      "1685/1685 [==============================] - 25s - loss: 3.2964 - acc: 0.1282 - val_loss: 2.3430 - val_acc: 0.3088\n",
      "Epoch 2/20\n",
      "1685/1685 [==============================] - 22s - loss: 1.4330 - acc: 0.5751 - val_loss: 0.9447 - val_acc: 0.6775\n",
      "Epoch 3/20\n",
      "1685/1685 [==============================] - 22s - loss: 0.6830 - acc: 0.7834 - val_loss: 0.6563 - val_acc: 0.7625\n",
      "Epoch 4/20\n",
      "1685/1685 [==============================] - 36s - loss: 0.4508 - acc: 0.8475 - val_loss: 0.4429 - val_acc: 0.8475\n",
      "Epoch 5/20\n",
      "1685/1685 [==============================] - 20s - loss: 0.3112 - acc: 0.9009 - val_loss: 0.3087 - val_acc: 0.8925\n",
      "Epoch 6/20\n",
      "1685/1685 [==============================] - 35s - loss: 0.2264 - acc: 0.9175 - val_loss: 0.4313 - val_acc: 0.8350\n",
      "Epoch 7/20\n",
      "1685/1685 [==============================] - 17s - loss: 0.2246 - acc: 0.9252 - val_loss: 0.2783 - val_acc: 0.8888\n",
      "Epoch 8/20\n",
      "1685/1685 [==============================] - 17s - loss: 0.1438 - acc: 0.9513 - val_loss: 0.1941 - val_acc: 0.9362\n",
      "Epoch 9/20\n",
      "1685/1685 [==============================] - 33s - loss: 0.1060 - acc: 0.9650 - val_loss: 0.2004 - val_acc: 0.9187\n",
      "Epoch 10/20\n",
      "1685/1685 [==============================] - 20s - loss: 0.0770 - acc: 0.9763 - val_loss: 0.1888 - val_acc: 0.9287\n",
      "Epoch 11/20\n",
      "1685/1685 [==============================] - 18s - loss: 0.0908 - acc: 0.9697 - val_loss: 0.2701 - val_acc: 0.9113\n",
      "Epoch 12/20\n",
      "1685/1685 [==============================] - 19s - loss: 0.1207 - acc: 0.9602 - val_loss: 0.3004 - val_acc: 0.9025\n",
      "Epoch 13/20\n",
      "1685/1685 [==============================] - 30s - loss: 0.0843 - acc: 0.9709 - val_loss: 0.2176 - val_acc: 0.9263\n",
      "Epoch 14/20\n",
      "1685/1685 [==============================] - 18s - loss: 0.0858 - acc: 0.9709 - val_loss: 0.2147 - val_acc: 0.9237\n",
      "Epoch 15/20\n",
      "1685/1685 [==============================] - 27s - loss: 0.0510 - acc: 0.9852 - val_loss: 0.2401 - val_acc: 0.9275\n",
      "Epoch 16/20\n",
      "1685/1685 [==============================] - 22s - loss: 0.0450 - acc: 0.9828 - val_loss: 0.1550 - val_acc: 0.9487\n",
      "Epoch 17/20\n",
      "1685/1685 [==============================] - 18s - loss: 0.0311 - acc: 0.9923 - val_loss: 0.1426 - val_acc: 0.9600\n",
      "Epoch 18/20\n",
      "1685/1685 [==============================] - 19s - loss: 0.0213 - acc: 0.9935 - val_loss: 0.1432 - val_acc: 0.9587\n",
      "Epoch 19/20\n",
      "1685/1685 [==============================] - 33s - loss: 0.0143 - acc: 0.9958 - val_loss: 0.1405 - val_acc: 0.9600\n",
      "Epoch 20/20\n",
      "1685/1685 [==============================] - 18s - loss: 0.0085 - acc: 0.9988 - val_loss: 0.1798 - val_acc: 0.9525\n",
      "Saved model to disk\n",
      "Loaded model from disk\n",
      "830/830 [==============================] - 2s     \n",
      "acc: 95.18%\n",
      "loss: 18.08%\n",
      "830/830 [==============================] - 2s     \n",
      "acc: 99.73%\n",
      "loss: 0.93%\n"
     ]
    }
   ],
   "source": [
    "#work begins here\n",
    "__main__()"
   ]
  },
  {
   "cell_type": "code",
   "execution_count": null,
   "metadata": {
    "collapsed": true
   },
   "outputs": [],
   "source": []
  },
  {
   "cell_type": "code",
   "execution_count": null,
   "metadata": {
    "collapsed": true
   },
   "outputs": [],
   "source": []
  }
 ],
 "metadata": {
  "kernelspec": {
   "display_name": "Python 3",
   "language": "python",
   "name": "python3"
  },
  "language_info": {
   "codemirror_mode": {
    "name": "ipython",
    "version": 3
   },
   "file_extension": ".py",
   "mimetype": "text/x-python",
   "name": "python",
   "nbconvert_exporter": "python",
   "pygments_lexer": "ipython3",
   "version": "3.6.1"
  }
 },
 "nbformat": 4,
 "nbformat_minor": 2
}
